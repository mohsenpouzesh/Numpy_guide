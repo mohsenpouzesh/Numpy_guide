{
 "cells": [
  {
   "cell_type": "markdown",
   "metadata": {},
   "source": [
    " # NumPy Guide: Unleashing Numerical Power in Python"
   ]
  },
  {
   "cell_type": "markdown",
   "metadata": {},
   "source": [
    "Welcome to this comprehensive guide on NumPy, the cornerstone library for numerical computing in Python. Whether you're diving into data science, machine learning, or scientific research, NumPy’s efficient arrays and mathematical tools are your go-to companions. This guide walks you through its core features with detailed explanations and hands-on examples."
   ]
  },
  {
   "cell_type": "markdown",
   "metadata": {},
   "source": [
    " ## Table of Contents"
   ]
  },
  {
   "cell_type": "markdown",
   "metadata": {},
   "source": [
    "\n",
    "\n",
    "\n",
    "- [1. What is NumPy?](##-what-is-numpy)\n",
    "  \n",
    "- [2. Installation](##-installation)\n",
    "  \n",
    "- [3. The `ndarray`: NumPy’s Core](##-the-ndarray-numpys-core)\n",
    "\n",
    "- [4. Key Features with Examples](##-key-features-with-examples)\n",
    "  \n",
    "  - [4.1 Array Creation](###1-array-creation)\n",
    "  \n",
    "  - [4.2 Mathematical Operations](###2-mathematical-operations)\n",
    "  \n",
    "  - [4.3 Indexing and Slicing](###3-indexing-and-slicing)\n",
    "  \n",
    "  - [4.4 Shape Manipulation](###4-shape-manipulation)\n",
    "  \n",
    "  - [4.5 Statistical Functions](###45-statistical-functions)\n",
    "  \n",
    "  - [4.6 Linear Algebra](###6-linear-algebra)\n",
    "  \n",
    "  - [4.7 Saving and Loading](###7-saving-and-loading)\n",
    "  \n",
    "- [5. Practical Example](##-practical-example)\n",
    "  \n",
    "- [6. Why Choose NumPy?](##-why-choose-numpy)\n",
    "  \n",
    "- [7. Further Exploration](##-further-exploration)\n",
    "  \n"
   ]
  },
  {
   "cell_type": "markdown",
   "metadata": {},
   "source": [
    "### What is NumPy?"
   ]
  },
  {
   "cell_type": "markdown",
   "metadata": {},
   "source": [
    "NumPy (Numerical Python) is an open-source library that provides support for large, multi-dimensional arrays and matrices, along with a vast collection of mathematical functions. Built on optimized C code, it’s lightning-fast and memory-efficient, making it a foundation for libraries like Pandas, SciPy, and TensorFlow.\n",
    "\n",
    "-Creator: Travis Oliphant (2005)\n",
    "\n",
    "-Purpose: Enable high-performance numerical computations in Python\n",
    "\n",
    "-Latest Version: Check [PyPI]([https://](https://pypi.org/project/numpy/)) for the latest release"
   ]
  },
  {
   "cell_type": "markdown",
   "metadata": {},
   "source": [
    "### Installation\n",
    "Get started by installing NumPy:"
   ]
  },
  {
   "cell_type": "markdown",
   "metadata": {},
   "source": [
    "`pip install numpy`"
   ]
  },
  {
   "cell_type": "markdown",
   "metadata": {},
   "source": [
    "Then import it in your Python script:"
   ]
  },
  {
   "cell_type": "code",
   "execution_count": 5,
   "metadata": {},
   "outputs": [],
   "source": [
    "import numpy as np"
   ]
  },
  {
   "cell_type": "markdown",
   "metadata": {},
   "source": [
    "### The `ndarray`: NumPy’s Core\n",
    "The `ndarray` (N-dimensional array) is NumPy’s heart—a homogeneous, multi-dimensional data structure designed for speed and flexibility."
   ]
  },
  {
   "cell_type": "markdown",
   "metadata": {},
   "source": [
    "Attributes:\n",
    "\n",
    "-***`shape`***: Tuple of array dimensions (e.g., (3, 2) for a 3x2 matrix).\n",
    "\n",
    "-***`dtype`***: Data type of elements (e.g., `int32`, `float64`, `bool`).\n",
    "\n",
    "-***`size`***: Total number of elements.\n",
    "\n",
    "-***`ndim`***: Number of dimensions."
   ]
  },
  {
   "cell_type": "markdown",
   "metadata": {},
   "source": [
    "Example: Creating an Array"
   ]
  },
  {
   "cell_type": "code",
   "execution_count": 6,
   "metadata": {},
   "outputs": [
    {
     "name": "stdout",
     "output_type": "stream",
     "text": [
      "Array: [1 2 3 4]\n",
      "Shape: (4,)\n",
      "Data Type: int32\n",
      "Dimensions: 1\n"
     ]
    }
   ],
   "source": [
    "arr = np.array([1, 2, 3, 4])\n",
    "print(\"Array:\", arr)         # [1 2 3 4]\n",
    "print(\"Shape:\", arr.shape)   # (4,)\n",
    "print(\"Data Type:\", arr.dtype)  # int64\n",
    "print(\"Dimensions:\", arr.ndim)  # 1"
   ]
  },
  {
   "cell_type": "markdown",
   "metadata": {},
   "source": [
    "### Key Features with Examples\n",
    "\n",
    "#### 1. Array Creation\n",
    "   \n",
    "NumPy offers versatile ways to generate arrays.\n",
    "\n",
    "Examples\n"
   ]
  },
  {
   "cell_type": "code",
   "execution_count": 7,
   "metadata": {},
   "outputs": [
    {
     "name": "stdout",
     "output_type": "stream",
     "text": [
      "Zeros:\n",
      " [[0. 0. 0.]\n",
      " [0. 0. 0.]]\n",
      "Range: [0 2 4 6 8]\n",
      "Random Floats:\n",
      " [[0.93376298 0.90296801]\n",
      " [0.18228917 0.4337597 ]]\n"
     ]
    }
   ],
   "source": [
    "# Zeros, Ones, and Empty\n",
    "zeros = np.zeros((2, 3))    # 2x3 array of zeros\n",
    "ones = np.ones((2, 3))      # 2x3 array of ones\n",
    "empty = np.empty((2, 2))    # 2x2 uninitialized array\n",
    "print(\"Zeros:\\n\", zeros)\n",
    "# [[0. 0. 0.]\n",
    "#  [0. 0. 0.]]\n",
    "\n",
    "# Sequences\n",
    "range_arr = np.arange(0, 10, 2)      # [0 2 4 6 8]\n",
    "linspace_arr = np.linspace(0, 1, 5)   # [0.   0.25 0.5  0.75 1.  ]\n",
    "print(\"Range:\", range_arr)\n",
    "\n",
    "# Random Arrays\n",
    "rand_arr = np.random.rand(2, 2)       # 2x2 random floats [0, 1)\n",
    "rand_ints = np.random.randint(1, 10, size=(2, 2))  # 2x2 random ints\n",
    "print(\"Random Floats:\\n\", rand_arr)"
   ]
  },
  {
   "cell_type": "markdown",
   "metadata": {},
   "source": [
    "**Tips**:\n",
    "\n",
    "- Use` np.random.seed(n)` for reproducible random numbers.\n",
    "\n",
    "- Specify `dtype` for custom types (e.g., `np.array([1, 2], dtype=float`))."
   ]
  },
  {
   "cell_type": "markdown",
   "metadata": {},
   "source": [
    "#### 2. Mathematical Operations\n",
    "\n",
    "NumPy excels at fast, element-wise operations and broadcasting.\n",
    "\n",
    "Examples"
   ]
  },
  {
   "cell_type": "code",
   "execution_count": 8,
   "metadata": {},
   "outputs": [
    {
     "name": "stdout",
     "output_type": "stream",
     "text": [
      "Add 2: [3 4 5 6]\n",
      "Square Root: [1.         1.41421356 1.73205081 2.        ]\n",
      "Multiply: [ 4 10 18]\n",
      "Broadcast Add:\n",
      " [[11 22]\n",
      " [13 24]]\n"
     ]
    }
   ],
   "source": [
    "# Element-wise Operations\n",
    "arr = np.array([1, 2, 3, 4])\n",
    "print(\"Add 2:\", arr + 2)        # [3 4 5 6]\n",
    "print(\"Square Root:\", np.sqrt(arr))  # [1.   1.41 1.73 2.  ]\n",
    "\n",
    "# Array-to-Array\n",
    "a = np.array([1, 2, 3])\n",
    "b = np.array([4, 5, 6])\n",
    "print(\"Multiply:\", a * b)       # [4 10 18]\n",
    "\n",
    "# Broadcasting\n",
    "matrix = np.array([[1, 2], [3, 4]])\n",
    "row = np.array([10, 20])\n",
    "print(\"Broadcast Add:\\n\", matrix + row)\n",
    "# [[11 22]\n",
    "#  [13 24]]"
   ]
  },
  {
   "cell_type": "markdown",
   "metadata": {},
   "source": [
    "**Notes**:\n",
    "\n",
    " - Vectorization eliminates loops, boosting performance.\n",
    "\n",
    " - Broadcasting aligns shapes dynamically (e.g., scalar to array)."
   ]
  },
  {
   "cell_type": "markdown",
   "metadata": {},
   "source": [
    "#### 3. Indexing and Slicing\n",
    "\n",
    "Access and modify arrays with precision.\n",
    "\n",
    "Examples"
   ]
  },
  {
   "cell_type": "code",
   "execution_count": 9,
   "metadata": {},
   "outputs": [
    {
     "name": "stdout",
     "output_type": "stream",
     "text": [
      "Element 2: 30\n",
      "Slice: [20 30]\n",
      "Row 0, Col 1: 2\n",
      "All Rows, Cols 1-2:\n",
      " [[2 3]\n",
      " [5 6]]\n",
      "Select Indices: [10 40]\n"
     ]
    }
   ],
   "source": [
    "# 1D Array\n",
    "arr = np.array([10, 20, 30, 40])\n",
    "print(\"Element 2:\", arr[2])      # 30\n",
    "print(\"Slice:\", arr[1:3])        # [20 30]\n",
    "\n",
    "# 2D Array\n",
    "matrix = np.array([[1, 2, 3], [4, 5, 6]])\n",
    "print(\"Row 0, Col 1:\", matrix[0, 1])  # 2\n",
    "print(\"All Rows, Cols 1-2:\\n\", matrix[:, 1:])  # [[2 3]\n",
    "                                               #  [5 6]]\n",
    "\n",
    "# Fancy Indexing\n",
    "print(\"Select Indices:\", arr[[0, 3]])  # [10 40]"
   ]
  },
  {
   "cell_type": "markdown",
   "metadata": {},
   "source": [
    "- Tips: Slices return views (not copies), so modifications affect the original array."
   ]
  },
  {
   "cell_type": "markdown",
   "metadata": {},
   "source": [
    "#### 4. Shape Manipulation\n",
    "\n",
    "Reshape or combine arrays effortlessly.\n",
    "\n",
    "Examples"
   ]
  },
  {
   "cell_type": "code",
   "execution_count": 10,
   "metadata": {},
   "outputs": [
    {
     "name": "stdout",
     "output_type": "stream",
     "text": [
      "Reshaped:\n",
      " [[0 1 2]\n",
      " [3 4 5]]\n",
      "Transposed:\n",
      " [[1 3]\n",
      " [2 4]]\n",
      "Vertical Stack:\n",
      " [[1 2]\n",
      " [3 4]]\n"
     ]
    }
   ],
   "source": [
    "# Reshape\n",
    "arr = np.arange(6)\n",
    "matrix = arr.reshape(2, 3)\n",
    "print(\"Reshaped:\\n\", matrix)\n",
    "# [[0 1 2]\n",
    "#  [3 4 5]]\n",
    "\n",
    "# Transpose\n",
    "matrix = np.array([[1, 2], [3, 4]])\n",
    "print(\"Transposed:\\n\", matrix.T)\n",
    "# [[1 3]\n",
    "#  [2 4]]\n",
    "\n",
    "# Stacking\n",
    "a = np.array([1, 2])\n",
    "b = np.array([3, 4])\n",
    "print(\"Vertical Stack:\\n\", np.vstack((a, b)))\n",
    "# [[1 2]\n",
    "#  [3 4]]"
   ]
  },
  {
   "cell_type": "markdown",
   "metadata": {},
   "source": [
    "- Notes: `reshape` requires the total number of elements to match."
   ]
  },
  {
   "cell_type": "markdown",
   "metadata": {},
   "source": [
    "#### 5. Statistical Functions\n",
    "\n",
    "Summarize data with ease.\n",
    "\n",
    "Example"
   ]
  },
  {
   "cell_type": "code",
   "execution_count": 11,
   "metadata": {},
   "outputs": [
    {
     "name": "stdout",
     "output_type": "stream",
     "text": [
      "Mean: 3.5\n",
      "Std Dev: 1.707825127659933\n",
      "Column Sums: [5 7 9]\n"
     ]
    }
   ],
   "source": [
    "data = np.array([[1, 2, 3], [4, 5, 6]])\n",
    "print(\"Mean:\", np.mean(data))         # 3.5\n",
    "print(\"Std Dev:\", np.std(data))       # 1.707825127659933\n",
    "print(\"Column Sums:\", np.sum(data, axis=0))  # [5 7 9]"
   ]
  },
  {
   "cell_type": "markdown",
   "metadata": {},
   "source": [
    "- Tips: Use `axis` to compute along rows (`axis=1`) or columns (`axis=0`)."
   ]
  },
  {
   "cell_type": "markdown",
   "metadata": {},
   "source": [
    "#### 6. Linear Algebra\n",
    "\n",
    "Perform matrix operations with `numpy.linalg`.\n",
    "\n",
    "Example"
   ]
  },
  {
   "cell_type": "code",
   "execution_count": 12,
   "metadata": {},
   "outputs": [
    {
     "name": "stdout",
     "output_type": "stream",
     "text": [
      "Matrix Multiply:\n",
      " [[19 22]\n",
      " [43 50]]\n",
      "Determinant: -2.0000000000000004\n",
      "Inverse:\n",
      " [[-2.   1. ]\n",
      " [ 1.5 -0.5]]\n"
     ]
    }
   ],
   "source": [
    "A = np.array([[1, 2], [3, 4]])\n",
    "B = np.array([[5, 6], [7, 8]])\n",
    "print(\"Matrix Multiply:\\n\", np.dot(A, B))\n",
    "# [[19 22]\n",
    "#  [43 50]]\n",
    "\n",
    "print(\"Determinant:\", np.linalg.det(A))  # -2.0\n",
    "print(\"Inverse:\\n\", np.linalg.inv(A))\n",
    "# [[-2.   1. ]\n",
    "#  [ 1.5 -0.5]]"
   ]
  },
  {
   "cell_type": "markdown",
   "metadata": {},
   "source": [
    "- Notes: `np.matmul()` is preferred for 2D matrix multiplication over `dot()`."
   ]
  },
  {
   "cell_type": "markdown",
   "metadata": {},
   "source": [
    "#### 7. Saving and Loading\n",
    "\n",
    "Persist arrays for later use.\n",
    "\n",
    "Example"
   ]
  },
  {
   "cell_type": "code",
   "execution_count": 13,
   "metadata": {},
   "outputs": [
    {
     "name": "stdout",
     "output_type": "stream",
     "text": [
      "Loaded: [1 2 3]\n"
     ]
    }
   ],
   "source": [
    "arr = np.array([1, 2, 3])\n",
    "np.save(\"my_array.npy\", arr)      # Save to .npy file\n",
    "loaded = np.load(\"my_array.npy\")  # Load back\n",
    "print(\"Loaded:\", loaded)          # [1 2 3]"
   ]
  },
  {
   "cell_type": "markdown",
   "metadata": {},
   "source": [
    "- Tips: Use `np.savetxt()` and `np.loadtxt()` for text-based storage."
   ]
  },
  {
   "cell_type": "markdown",
   "metadata": {},
   "source": [
    "### Practical Example\n",
    "\n",
    "Here’s a real-world-inspired example combining multiple NumPy features:"
   ]
  },
  {
   "cell_type": "markdown",
   "metadata": {},
   "source": [
    "import numpy as np\n",
    "\n",
    "# Generate a 3x3 random matrix of integers\n",
    "matrix = np.random.randint(1, 10, size=(3, 3))\n",
    "print(\"Original Matrix:\\n\", matrix)\n",
    "\n",
    "# Calculate row means and reshape into a column\n",
    "row_means = np.mean(matrix, axis=1).reshape(-1, 1)\n",
    "print(\"Row Means:\\n\", row_means)\n",
    "\n",
    "# Normalize matrix by row means (broadcasting)\n",
    "normalized = matrix / row_means\n",
    "print(\"Normalized Matrix:\\n\", normalized)\n",
    "\n",
    "# Compute column sums of the result\n",
    "col_sums = np.sum(normalized, axis=0)\n",
    "print(\"Column Sums:\", col_sums)"
   ]
  },
  {
   "cell_type": "markdown",
   "metadata": {},
   "source": [
    "Sample Output"
   ]
  },
  {
   "cell_type": "code",
   "execution_count": null,
   "metadata": {},
   "outputs": [],
   "source": [
    "Original Matrix:\n",
    " [[3 8 2]\n",
    "  [5 1 4]\n",
    "  [9 6 7]]\n",
    "Row Means:\n",
    " [[4.33]\n",
    "  [3.33]\n",
    "  [7.33]]\n",
    "Normalized Matrix:\n",
    " [[0.69 1.85 0.46]\n",
    "  [1.50 0.30 1.20]\n",
    "  [1.23 0.82 0.95]]\n",
    "Column Sums: [3.42 2.97 2.61]"
   ]
  },
  {
   "cell_type": "markdown",
   "metadata": {},
   "source": [
    "Use Case: This could represent normalizing data (e.g., feature scaling in machine learning)."
   ]
  },
  {
   "cell_type": "markdown",
   "metadata": {},
   "source": [
    "### Further Exploration\n",
    "\n",
    "Advanced Features: Explore masked arrays (`np.ma`), FFTs (`np.fft`), and polynomials (`np.poly`).\n",
    "\n",
    "Documentation: [Official NumPy Docs](https://numpy.org/doc/stable/)\n",
    "\n",
    "Tutorials: Check out NumPy’s [Quickstart](https://numpy.org/doc/stable/user/quickstart.html)."
   ]
  }
 ],
 "metadata": {
  "kernelspec": {
   "display_name": "Python 3",
   "language": "python",
   "name": "python3"
  },
  "language_info": {
   "codemirror_mode": {
    "name": "ipython",
    "version": 3
   },
   "file_extension": ".py",
   "mimetype": "text/x-python",
   "name": "python",
   "nbconvert_exporter": "python",
   "pygments_lexer": "ipython3",
   "version": "3.11.3"
  }
 },
 "nbformat": 4,
 "nbformat_minor": 2
}
